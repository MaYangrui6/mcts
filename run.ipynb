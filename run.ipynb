{
 "cells": [
  {
   "cell_type": "code",
   "execution_count": 7,
   "id": "273c28cb-8f5b-4f8a-8647-bb11b816fe5c",
   "metadata": {
    "ExecuteTime": {
     "end_time": "2024-02-27T11:12:49.531865500Z",
     "start_time": "2024-02-27T11:12:49.255552400Z"
    },
    "tags": []
   },
   "outputs": [],
   "source": [
    "import psycopg2\n",
    "\n",
    "# 建立数据库连接\n",
    "conn = psycopg2.connect(\n",
    "    dbname=\"tpcds\",    # 数据库名\n",
    "    user=\"postgres\",     # 用户名\n",
    "    password=\"postgres\", # 密码\n",
    "    host=\"127.0.0.1\",         # 主机名或IP地址\n",
    "    port=\"5432\"          # 端口号，默认是5432\n",
    ")\n",
    "\n",
    "# 进行数据库操作\n",
    "cur = conn.cursor()\n",
    "# cur.execute(\"SELECT * FROM date_dim\")\n",
    "# rows = cur.fetchall()\n",
    "\n",
    "# # 关闭游标和连接\n",
    "# cur.close()\n",
    "# conn.close()"
   ]
  },
  {
   "cell_type": "code",
   "execution_count": 2,
   "id": "6a24f1e3-dbaf-4b06-8969-cc47d4daf3e0",
   "metadata": {
    "tags": []
   },
   "outputs": [
    {
     "ename": "UndefinedFunction",
     "evalue": "function pg_catalog.hypopg_reset_index() does not exist\nLINE 1: SELECT pg_catalog.hypopg_reset_index();\n               ^\nHINT:  No function matches the given name and argument types. You might need to add explicit type casts.\n",
     "output_type": "error",
     "traceback": [
      "\u001b[0;31m---------------------------------------------------------------------------\u001b[0m",
      "\u001b[0;31mUndefinedFunction\u001b[0m                         Traceback (most recent call last)",
      "Cell \u001b[0;32mIn[2], line 1\u001b[0m\n\u001b[0;32m----> 1\u001b[0m cur\u001b[38;5;241m.\u001b[39mexecute(\u001b[38;5;124m'\u001b[39m\u001b[38;5;124mSELECT pg_catalog.hypopg_reset_index();\u001b[39m\u001b[38;5;124m'\u001b[39m)\n",
      "\u001b[0;31mUndefinedFunction\u001b[0m: function pg_catalog.hypopg_reset_index() does not exist\nLINE 1: SELECT pg_catalog.hypopg_reset_index();\n               ^\nHINT:  No function matches the given name and argument types. You might need to add explicit type casts.\n"
     ]
    }
   ],
   "source": [
    "cur.execute('SELECT pg_catalog.hypopg_reset_index();')"
   ]
  },
  {
   "cell_type": "code",
   "execution_count": 34,
   "id": "7eee9b34-0711-49f8-a947-ff3c6deb927b",
   "metadata": {
    "tags": []
   },
   "outputs": [
    {
     "ename": "ProgrammingError",
     "evalue": "no results to fetch",
     "output_type": "error",
     "traceback": [
      "\u001b[0;31m---------------------------------------------------------------------------\u001b[0m",
      "\u001b[0;31mProgrammingError\u001b[0m                          Traceback (most recent call last)",
      "Cell \u001b[0;32mIn[34], line 5\u001b[0m\n\u001b[1;32m      3\u001b[0m cur\u001b[38;5;241m.\u001b[39mexecute(sqls[\u001b[38;5;241m0\u001b[39m])\n\u001b[1;32m      4\u001b[0m \u001b[38;5;66;03m# conn.commit()\u001b[39;00m\n\u001b[0;32m----> 5\u001b[0m display([(cur\u001b[38;5;241m.\u001b[39mstatusmessage,)] \u001b[38;5;241m+\u001b[39m cur\u001b[38;5;241m.\u001b[39mfetchall())\n",
      "\u001b[0;31mProgrammingError\u001b[0m: no results to fetch"
     ]
    }
   ],
   "source": [
    "sqls=['prepare prepare_0 as select i_brand_id brand_id, i_brand brand, i_manufact_id, i_manufact,\\n \\tsum(ss_ext_sales_price) ext_price\\n from date_dim, store_sales, item,customer,customer_address,store\\n where d_date_sk = ss_sold_date_sk\\n and ss_item_sk = i_item_sk\\n and i_manager_id=16\\n and d_moy=11\\n and d_year=1999\\n and ss_customer_sk = c_customer_sk \\n and c_current_addr_sk = ca_address_sk\\n and substr(ca_zip,1,5) <> substr(s_zip,1,5) \\n and ss_store_sk = s_store_sk \\n group by i_brand\\n ,i_brand_id\\n ,i_manufact_id\\n ,i_manufact\\n order by ext_price desc\\n ,i_brand\\n ,i_brand_id\\n ,i_manufact_id\\n ,i_manufact\\nlimit 100 ;', 'explain execute prepare_0', 'deallocate prepare prepare_0']\n",
    "cur.execute(sqls[0])\n",
    "conn.commit()\n",
    "display([(cur.statusmessage,)] + cur.fetchall())"
   ]
  },
  {
   "cell_type": "code",
   "execution_count": 41,
   "id": "f1ac9fa4-9e08-47fa-9cda-7115f6e9110d",
   "metadata": {
    "tags": []
   },
   "outputs": [
    {
     "ename": "ProgrammingError",
     "evalue": "no results to fetch",
     "output_type": "error",
     "traceback": [
      "\u001b[0;31m---------------------------------------------------------------------------\u001b[0m",
      "\u001b[0;31mProgrammingError\u001b[0m                          Traceback (most recent call last)",
      "Cell \u001b[0;32mIn[41], line 2\u001b[0m\n\u001b[1;32m      1\u001b[0m cur\u001b[38;5;241m.\u001b[39mexecute(sqls[\u001b[38;5;241m0\u001b[39m])\n\u001b[0;32m----> 2\u001b[0m res\u001b[38;5;241m=\u001b[39mcur\u001b[38;5;241m.\u001b[39mfetchall()\n",
      "\u001b[0;31mProgrammingError\u001b[0m: no results to fetch"
     ]
    }
   ],
   "source": [
    "cur.execute(sqls[0])\n",
    "res=cur.fetchall()"
   ]
  },
  {
   "cell_type": "code",
   "execution_count": 48,
   "id": "306719fe-7a16-405a-ad63-166cd947a1da",
   "metadata": {
    "tags": []
   },
   "outputs": [
    {
     "data": {
      "text/plain": [
       "-1"
      ]
     },
     "metadata": {},
     "output_type": "display_data"
    },
    {
     "ename": "ProgrammingError",
     "evalue": "no results to fetch",
     "output_type": "error",
     "traceback": [
      "\u001b[0;31m---------------------------------------------------------------------------\u001b[0m",
      "\u001b[0;31mProgrammingError\u001b[0m                          Traceback (most recent call last)",
      "Cell \u001b[0;32mIn[48], line 6\u001b[0m\n\u001b[1;32m      4\u001b[0m     \u001b[38;5;28mprint\u001b[39m(\u001b[38;5;124m\"\u001b[39m\u001b[38;5;124m结果为空\u001b[39m\u001b[38;5;124m\"\u001b[39m)\n\u001b[1;32m      5\u001b[0m \u001b[38;5;28;01melse\u001b[39;00m:\n\u001b[0;32m----> 6\u001b[0m     rows \u001b[38;5;241m=\u001b[39m cur\u001b[38;5;241m.\u001b[39mfetchall()\n\u001b[1;32m      7\u001b[0m     \u001b[38;5;28;01mfor\u001b[39;00m row \u001b[38;5;129;01min\u001b[39;00m rows:\n\u001b[1;32m      8\u001b[0m         \u001b[38;5;28mprint\u001b[39m(row)\n",
      "\u001b[0;31mProgrammingError\u001b[0m: no results to fetch"
     ]
    }
   ],
   "source": [
    "cur.execute(sqls[0])\n",
    "display(cur.rowcount)\n",
    "if cur.rowcount == 0:\n",
    "    print(\"结果为空\")\n",
    "else:\n",
    "    rows = cur.fetchall()\n",
    "    for row in rows:\n",
    "        print(row)\n"
   ]
  },
  {
   "cell_type": "code",
   "execution_count": null,
   "id": "4b62f721-166a-4a8b-b98b-74b32aed8c53",
   "metadata": {},
   "outputs": [],
   "source": []
  },
  {
   "cell_type": "code",
   "execution_count": null,
   "id": "81eef33b-e3da-4b14-b5f1-13e91d1deb92",
   "metadata": {},
   "outputs": [],
   "source": []
  },
  {
   "cell_type": "code",
   "execution_count": null,
   "id": "729b3f3e-0b0c-49d4-a546-67972744a857",
   "metadata": {},
   "outputs": [],
   "source": []
  },
  {
   "cell_type": "code",
   "execution_count": 1,
   "id": "7aab41e6-7abc-4ea2-8221-f926a9ed0f60",
   "metadata": {
    "tags": []
   },
   "outputs": [
    {
     "data": {
      "text/plain": [
       "['date_dim', 'item', 'store_sales']"
      ]
     },
     "execution_count": 1,
     "metadata": {},
     "output_type": "execute_result"
    }
   ],
   "source": [
    "tables = {'public.store_sales', 'public.item', 'public.date_dim'}\n",
    "table_names = []\n",
    "\n",
    "for table in tables:\n",
    "    table_name = table.split('.')[-1]  # 使用split函数根据'.'来分割字符串，并取最后一个部分作为表名\n",
    "    table_names.append(table_name)\n",
    "table_names"
   ]
  },
  {
   "cell_type": "code",
   "execution_count": 2,
   "id": "3728a798-e1df-46be-9933-2ca677f2f17a",
   "metadata": {
    "tags": []
   },
   "outputs": [
    {
     "data": {
      "text/plain": [
       "'表名：'"
      ]
     },
     "metadata": {},
     "output_type": "display_data"
    },
    {
     "data": {
      "text/plain": [
       "'date_dim'"
      ]
     },
     "metadata": {},
     "output_type": "display_data"
    },
    {
     "data": {
      "text/plain": [
       "'列名：'"
      ]
     },
     "metadata": {},
     "output_type": "display_data"
    },
    {
     "data": {
      "text/plain": [
       "'d_month_seq'"
      ]
     },
     "metadata": {},
     "output_type": "display_data"
    }
   ],
   "source": [
    "tables_names = ['date_dim', 'item', 'store_sales']\n",
    "string = \"<13384>btree_date_dim_d_month_seq\"\n",
    "\n",
    "# 遍历所有表名，查找表名后的列名\n",
    "for table_name in tables_names:\n",
    "    if table_name in string:\n",
    "        # 获取表名后的字符串\n",
    "        column_name = string.split(table_name)[-1].lstrip('_')  # 使用split函数根据表名分割字符串，并获取后面的部分\n",
    "        display(\"表名：\", table_name, \"列名：\", column_name)\n",
    "        break"
   ]
  },
  {
   "cell_type": "code",
   "execution_count": 6,
   "id": "5f4f4ccc-e440-4bcf-b486-a09247748ff9",
   "metadata": {
    "tags": []
   },
   "outputs": [
    {
     "data": {
      "text/plain": [
       "['(13384', '<13384>btree_date_dim_d_month_seq)']"
      ]
     },
     "execution_count": 6,
     "metadata": {},
     "output_type": "execute_result"
    }
   ],
   "source": [
    "'(13384,<13384>btree_date_dim_d_month_seq)'.split(',',2)"
   ]
  },
  {
   "cell_type": "code",
   "execution_count": 3,
   "id": "57ad4f5e-d18b-4f37-960b-2512df69d98a",
   "metadata": {},
   "outputs": [
    {
     "name": "stdout",
     "output_type": "stream",
     "text": [
      "('<13386>btree_',)\n"
     ]
    }
   ],
   "source": []
  },
  {
   "cell_type": "code",
   "execution_count": 5,
   "id": "249e8fd5-aba4-42ad-b4df-c2439b900233",
   "metadata": {
    "tags": []
   },
   "outputs": [
    {
     "name": "stdout",
     "output_type": "stream",
     "text": [
      "表名 'item' 的位置： 13\n"
     ]
    }
   ],
   "source": [
    "string = \"<13386>btree_item_i_item_sk\"\n",
    "table_name = \"item\"\n",
    "\n",
    "# 查找子字符串的位置\n",
    "position = string.find(table_name)\n",
    "print(\"表名 'item' 的位置：\", position)"
   ]
  },
  {
   "cell_type": "code",
   "execution_count": 2,
   "id": "c46b29d7-2f9e-46e1-9ad8-f8e2f2aba82b",
   "metadata": {},
   "outputs": [
    {
     "data": {
      "text/plain": [
       "True"
      ]
     },
     "execution_count": 2,
     "metadata": {},
     "output_type": "execute_result"
    }
   ],
   "source": [
    "\"<13382>btree_date_dim_d_month_seq\".endswith('btree_date_dim_d_month_seq')"
   ]
  },
  {
   "cell_type": "code",
   "execution_count": 1,
   "id": "73b431e6-28e9-4263-9c0a-e4df89022394",
   "metadata": {},
   "outputs": [
    {
     "data": {
      "text/plain": [
       "<itertools.chain at 0x7fabcae44e80>"
      ]
     },
     "execution_count": 1,
     "metadata": {},
     "output_type": "execute_result"
    }
   ],
   "source": [
    "from itertools import groupby, chain, combinations, permutations\n",
    "def powerset(iterable):\n",
    "    \"\"\" powerset([1,2,3]) --> () (1,) (2,) (3,) (1,2) (1,3) (2,3) (1,2,3) \"\"\"\n",
    "    s = list(iterable)\n",
    "    return chain.from_iterable(combinations(s, r) for r in range(len(s) + 1))\n",
    "powerset([1,2,3])"
   ]
  },
  {
   "cell_type": "code",
   "execution_count": 3,
   "id": "2d2f6af4-b880-4de6-96ba-90ff919d9e96",
   "metadata": {
    "tags": []
   },
   "outputs": [
    {
     "name": "stdout",
     "output_type": "stream",
     "text": [
      "()\n",
      "(1,)\n",
      "(2,)\n",
      "(3,)\n",
      "(4,)\n",
      "(5,)\n",
      "(1, 2)\n",
      "(1, 3)\n",
      "(1, 4)\n",
      "(1, 5)\n",
      "(2, 3)\n",
      "(2, 4)\n",
      "(2, 5)\n",
      "(3, 4)\n",
      "(3, 5)\n",
      "(4, 5)\n",
      "(1, 2, 3)\n",
      "(1, 2, 4)\n",
      "(1, 2, 5)\n",
      "(1, 3, 4)\n",
      "(1, 3, 5)\n",
      "(1, 4, 5)\n",
      "(2, 3, 4)\n",
      "(2, 3, 5)\n",
      "(2, 4, 5)\n",
      "(3, 4, 5)\n",
      "(1, 2, 3, 4)\n",
      "(1, 2, 3, 5)\n",
      "(1, 2, 4, 5)\n",
      "(1, 3, 4, 5)\n",
      "(2, 3, 4, 5)\n",
      "(1, 2, 3, 4, 5)\n"
     ]
    }
   ],
   "source": [
    "for i in powerset([1,2,3,4,5]):\n",
    "    print(i)"
   ]
  },
  {
   "cell_type": "code",
   "execution_count": null,
   "id": "3eb6c498-2e35-436c-bcc4-77acd391f7e7",
   "metadata": {},
   "outputs": [],
   "source": []
  }
 ],
 "metadata": {
  "kernelspec": {
   "display_name": "Python 3 (ipykernel)",
   "language": "python",
   "name": "python3"
  },
  "language_info": {
   "codemirror_mode": {
    "name": "ipython",
    "version": 3
   },
   "file_extension": ".py",
   "mimetype": "text/x-python",
   "name": "python",
   "nbconvert_exporter": "python",
   "pygments_lexer": "ipython3",
   "version": "3.11.5"
  }
 },
 "nbformat": 4,
 "nbformat_minor": 5
}
